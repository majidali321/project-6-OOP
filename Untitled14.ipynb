{
  "nbformat": 4,
  "nbformat_minor": 0,
  "metadata": {
    "colab": {
      "provenance": [],
      "authorship_tag": "ABX9TyOUhoWL+TovdR8DhfKNb4S6",
      "include_colab_link": true
    },
    "kernelspec": {
      "name": "python3",
      "display_name": "Python 3"
    },
    "language_info": {
      "name": "python"
    }
  },
  "cells": [
    {
      "cell_type": "markdown",
      "metadata": {
        "id": "view-in-github",
        "colab_type": "text"
      },
      "source": [
        "<a href=\"https://colab.research.google.com/github/majidali321/project-6-OOP/blob/main/Untitled14.ipynb\" target=\"_parent\"><img src=\"https://colab.research.google.com/assets/colab-badge.svg\" alt=\"Open In Colab\"/></a>"
      ]
    },
    {
      "cell_type": "markdown",
      "source": [
        "** Assignment 1**"
      ],
      "metadata": {
        "id": "8nbyAokVl_Bh"
      }
    },
    {
      "cell_type": "code",
      "execution_count": null,
      "metadata": {
        "colab": {
          "base_uri": "https://localhost:8080/"
        },
        "id": "zm0k6sRFl8Cu",
        "outputId": "a95dddcf-9003-4c30-e6a6-b7e6837e048e"
      },
      "outputs": [
        {
          "output_type": "stream",
          "name": "stdout",
          "text": [
            "Name : Majid\n",
            "Marks : 90\n"
          ]
        }
      ],
      "source": [
        "class Student:\n",
        "  def __init__(self,marks,name):\n",
        "    self.marks = marks\n",
        "    self.name = name\n",
        "\n",
        "  def display(self):\n",
        "      print(f\"Name : {self.name}\")\n",
        "      print(f\"Marks : {self.marks}\")\n",
        "student1 = Student(90,\"Majid\")\n",
        "student1.display()"
      ]
    },
    {
      "cell_type": "markdown",
      "source": [
        "**Assignment** **2**"
      ],
      "metadata": {
        "id": "wnlVoCCMmk_n"
      }
    },
    {
      "cell_type": "code",
      "source": [
        "class Counter:\n",
        "  count = 0\n",
        "\n",
        "  def __init__(self):\n",
        "      Counter.count += 1\n",
        "\n",
        "  @classmethod\n",
        "  def display_count(cls):\n",
        "      print(f\"Number of objects created: {cls.count}\")\n",
        "obj1 = Counter()\n",
        "obj2 = Counter()\n",
        "obj3 = Counter()\n",
        "\n",
        "Counter.display_count()"
      ],
      "metadata": {
        "colab": {
          "base_uri": "https://localhost:8080/"
        },
        "id": "doL_fSnVmjrE",
        "outputId": "70f8339e-01c1-4459-aa7d-18f30c96d952"
      },
      "execution_count": null,
      "outputs": [
        {
          "output_type": "stream",
          "name": "stdout",
          "text": [
            "Number of objects created: 3\n"
          ]
        }
      ]
    },
    {
      "cell_type": "markdown",
      "source": [
        "**Assignment 3**"
      ],
      "metadata": {
        "id": "oSxpyyuFpcFE"
      }
    },
    {
      "cell_type": "code",
      "source": [
        "class Car:\n",
        "  def __init__(self, brand):\n",
        "    self.brand = brand\n",
        "\n",
        "  def start(self):\n",
        "    print(\"Car started!\")\n",
        "\n",
        "my_car = Car(\"Toyota\")\n",
        "print(my_car.brand)\n",
        "my_car.start()"
      ],
      "metadata": {
        "colab": {
          "base_uri": "https://localhost:8080/"
        },
        "id": "FPtXN-hDnT_W",
        "outputId": "4b5841e9-f35c-4a6f-b440-5d86efc2f964"
      },
      "execution_count": null,
      "outputs": [
        {
          "output_type": "stream",
          "name": "stdout",
          "text": [
            "Toyota\n",
            "Car started!\n"
          ]
        }
      ]
    },
    {
      "cell_type": "markdown",
      "source": [
        "Assignment 4"
      ],
      "metadata": {
        "id": "Pec-WQ9Ypp_M"
      }
    },
    {
      "cell_type": "code",
      "source": [
        "class Bank:\n",
        "  bank_name = \"Alfalah Bank\"\n",
        "\n",
        "  def __init__(self, account_number):\n",
        "    self.account_number = account_number\n",
        "\n",
        "  @classmethod\n",
        "  def change_bank_name(cls, name):\n",
        "    cls.bank_name = name\n",
        "\n",
        "  def display_bank_info(self):\n",
        "    print(f\"Account Number: {self.account_number}, Bank Name: {Bank.bank_name}\")\n",
        "\n",
        "account1 = Bank(\"12345\")\n",
        "account2 = Bank(\"67890\")\n",
        "\n",
        "print(\"Before changing bank name:\")\n",
        "account1.display_bank_info()\n",
        "account2.display_bank_info()\n",
        "\n",
        "Bank.change_bank_name(\"HBL\")\n",
        "\n",
        "print(\"\\nAfter changing bank name:\")\n",
        "account1.display_bank_info()\n",
        "account2.display_bank_info()\n",
        "\n",
        "account3 = Bank(\"112233\")\n",
        "account3.display_bank_info()\n"
      ],
      "metadata": {
        "colab": {
          "base_uri": "https://localhost:8080/"
        },
        "id": "xa3p8N3Fpk3F",
        "outputId": "80cf2ccb-7190-4226-f5ef-56880c87a6f1"
      },
      "execution_count": null,
      "outputs": [
        {
          "output_type": "stream",
          "name": "stdout",
          "text": [
            "Before changing bank name:\n",
            "Account Number: 12345, Bank Name: Alfalah Bank\n",
            "Account Number: 67890, Bank Name: Alfalah Bank\n",
            "\n",
            "After changing bank name:\n",
            "Account Number: 12345, Bank Name: HBL\n",
            "Account Number: 67890, Bank Name: HBL\n",
            "Account Number: 112233, Bank Name: HBL\n"
          ]
        }
      ]
    },
    {
      "cell_type": "markdown",
      "source": [
        "**Assignment 5**"
      ],
      "metadata": {
        "id": "Pg9B2zq-qGQd"
      }
    },
    {
      "cell_type": "code",
      "source": [
        "class MathUtils:\n",
        "  @staticmethod\n",
        "  def add(a, b):\n",
        "    return a + b\n",
        "\n",
        "MathUtils.add(5, 3)"
      ],
      "metadata": {
        "colab": {
          "base_uri": "https://localhost:8080/"
        },
        "id": "x7zxjahop0Cn",
        "outputId": "0722845a-45f1-43b8-8585-6489f6d0a9ca"
      },
      "execution_count": null,
      "outputs": [
        {
          "output_type": "execute_result",
          "data": {
            "text/plain": [
              "8"
            ]
          },
          "metadata": {},
          "execution_count": 11
        }
      ]
    },
    {
      "cell_type": "markdown",
      "source": [
        "**Assignment 6**"
      ],
      "metadata": {
        "id": "UAUGzdX1qhPW"
      }
    },
    {
      "cell_type": "code",
      "source": [
        "class Logger:\n",
        "  def __init__(self):\n",
        "    print(\"Logger object created\")\n",
        "\n",
        "  def __del__(self):\n",
        "      print(\"Logger object destryed\")\n",
        "logger_instance = Logger()\n",
        "del logger_instance"
      ],
      "metadata": {
        "colab": {
          "base_uri": "https://localhost:8080/"
        },
        "id": "0ZH-7DnMqQbe",
        "outputId": "059f994f-ce85-49dc-b240-e5f91f62cb1f"
      },
      "execution_count": null,
      "outputs": [
        {
          "output_type": "stream",
          "name": "stdout",
          "text": [
            "Logger object created\n",
            "Logger object destryed\n"
          ]
        }
      ]
    },
    {
      "cell_type": "markdown",
      "source": [
        "**Assignment 7**"
      ],
      "metadata": {
        "id": "CJ6MHxVWsDHk"
      }
    },
    {
      "cell_type": "code",
      "source": [
        "class Employee:\n",
        "  def __init__(self, name, salary, ssn):\n",
        "    self.name = name\n",
        "    self._salary = salary\n",
        "    self.__ssn = ssn\n",
        "\n",
        "employee1 = Employee(\"Majid ali\", 500000000, \"123-45-678\")\n",
        "\n",
        "print(f\"Accessing public variable 'name': {employee1.name}\")\n",
        "\n",
        "print(f\"Accessing protected variable '_salary': {employee1._salary}\")\n",
        "\n",
        "try:\n",
        "  print(f\"Attempting to access private variable '__ssn' directly: {employee1.__ssn}\")\n",
        "except AttributeError as e:\n",
        "  print(f\"Error accessing private variable '__ssn' directly: {e}\")\n",
        "\n",
        "print(f\"Accessing private variable '__ssn' using name mangling: {employee1._Employee__ssn}\")\n"
      ],
      "metadata": {
        "colab": {
          "base_uri": "https://localhost:8080/"
        },
        "id": "6tkPDCyxqtAN",
        "outputId": "02484540-c63d-40f4-aa36-465e1cd3031c"
      },
      "execution_count": null,
      "outputs": [
        {
          "output_type": "stream",
          "name": "stdout",
          "text": [
            "Accessing public variable 'name': Majid ali\n",
            "Accessing protected variable '_salary': 500000000\n",
            "Error accessing private variable '__ssn' directly: 'Employee' object has no attribute '__ssn'\n",
            "Accessing private variable '__ssn' using name mangling: 123-45-678\n"
          ]
        }
      ]
    },
    {
      "cell_type": "markdown",
      "source": [
        "**Assignment 8**"
      ],
      "metadata": {
        "id": "9eAjCtY-uQoK"
      }
    },
    {
      "cell_type": "code",
      "source": [
        "class Person:\n",
        "  def __init__(self, name):\n",
        "    self.name = name\n",
        "\n",
        "class Teacher(Person):\n",
        "  def __init__(self, name, subject):\n",
        "    super().__init__(name)\n",
        "    self.subject = subject\n",
        "\n",
        "# Example usage:\n",
        "teacher1 = Teacher(\"Sir Zia\", \"Agentic Ai\")\n",
        "print(f\"Teacher name: {teacher1.name}\")\n",
        "print(f\"Teacher subject: {teacher1.subject}\")"
      ],
      "metadata": {
        "colab": {
          "base_uri": "https://localhost:8080/"
        },
        "id": "m9Xenmj0uclv",
        "outputId": "ce3b6306-abfd-4b05-a877-c39580af4da4"
      },
      "execution_count": null,
      "outputs": [
        {
          "output_type": "stream",
          "name": "stdout",
          "text": [
            "Teacher name: Sir Zia\n",
            "Teacher subject: Agentic Ai\n"
          ]
        }
      ]
    },
    {
      "cell_type": "markdown",
      "source": [
        "**Assignment 9**"
      ],
      "metadata": {
        "id": "WgsPnIjQWmyb"
      }
    },
    {
      "cell_type": "code",
      "source": [
        "import abc\n",
        "class Shape(abc.ABC):\n",
        "  @abc.abstractmethod\n",
        "  def area(self):\n",
        "    pass\n",
        "\n",
        "class Square(Shape):\n",
        "  def __init__(self,width,height):\n",
        "    self.height = height\n",
        "    self.width = width\n",
        "\n",
        "  def area(self):\n",
        "      return self.width * self.height\n",
        "\n",
        "\n",
        "square = Square(4,5)\n",
        "print(f\"Area of square: {square.area()}\")"
      ],
      "metadata": {
        "colab": {
          "base_uri": "https://localhost:8080/"
        },
        "id": "APvFIkiwYPWP",
        "outputId": "ab705c9a-b483-4072-dba4-32e11464f0ed"
      },
      "execution_count": null,
      "outputs": [
        {
          "output_type": "stream",
          "name": "stdout",
          "text": [
            "Area of square: 20\n"
          ]
        }
      ]
    },
    {
      "cell_type": "markdown",
      "source": [
        "Assignment 10"
      ],
      "metadata": {
        "id": "-Rn1UMc3a3jg"
      }
    },
    {
      "cell_type": "code",
      "source": [
        "class Dog:\n",
        "  def __init__(self, name, breed):\n",
        "    self.name = name\n",
        "    self.breed = breed\n",
        "\n",
        "  def bark(self):\n",
        "    print(f\"{self.name} says Woof!\")\n",
        "\n",
        "my_dog = Dog(\"Buddy\", \"Golden Retriever\")\n",
        "print(f\"Dog's name: {my_dog.name}\")\n",
        "print(f\"Dog's breed: {my_dog.breed}\")\n",
        "my_dog.bark()"
      ],
      "metadata": {
        "colab": {
          "base_uri": "https://localhost:8080/"
        },
        "id": "U5h1116jcrAQ",
        "outputId": "60c6b157-984d-43a7-db69-00437dd2056f"
      },
      "execution_count": null,
      "outputs": [
        {
          "output_type": "stream",
          "name": "stdout",
          "text": [
            "Dog's name: Buddy\n",
            "Dog's breed: Golden Retriever\n",
            "Buddy says Woof!\n"
          ]
        }
      ]
    },
    {
      "cell_type": "markdown",
      "source": [
        "**Assignment 11**"
      ],
      "metadata": {
        "id": "O0webSPQltSI"
      }
    },
    {
      "cell_type": "code",
      "source": [
        "class Book:\n",
        "  total_books = 0\n",
        "\n",
        "  def __init__(self, title):\n",
        "    self.title = title\n",
        "    Book.increment_book_count()\n",
        "\n",
        "  @classmethod\n",
        "  def increment_book_count(cls):\n",
        "    cls.total_books += 1\n",
        "\n",
        "book1 = Book(\"Pak Studies\")\n",
        "book2 = Book(\"Wealthy Man\")\n",
        "book3 = Book(\"Rich dad poor dad\")\n",
        "\n",
        "print(f\"Total number of books: {Book.total_books}\")"
      ],
      "metadata": {
        "id": "jUhrvwtVcu4A",
        "colab": {
          "base_uri": "https://localhost:8080/"
        },
        "outputId": "f4b4005b-abc3-441e-bb53-eb64608436ac"
      },
      "execution_count": 1,
      "outputs": [
        {
          "output_type": "stream",
          "name": "stdout",
          "text": [
            "Total number of books: 3\n"
          ]
        }
      ]
    },
    {
      "cell_type": "markdown",
      "source": [
        "**Assignment 12**"
      ],
      "metadata": {
        "id": "fvVO6TwymLBx"
      }
    },
    {
      "cell_type": "code",
      "source": [
        "class TemperatureConverter:\n",
        "  @staticmethod\n",
        "  def celsius_to_fahrenheit(c):\n",
        "    return (c * 9/5) + 32\n",
        "\n",
        "fahrenheit_value = TemperatureConverter.celsius_to_fahrenheit(25)\n",
        "print(f\"25 Celsius = {fahrenheit_value} Fahrenheit.\")\n"
      ],
      "metadata": {
        "colab": {
          "base_uri": "https://localhost:8080/"
        },
        "id": "zRxYYmPpmFJA",
        "outputId": "f22f385f-9e1b-4897-9d44-3752460118a7"
      },
      "execution_count": 3,
      "outputs": [
        {
          "output_type": "stream",
          "name": "stdout",
          "text": [
            "25 Celsius = 77.0 Fahrenheit.\n"
          ]
        }
      ]
    },
    {
      "cell_type": "markdown",
      "source": [
        "**Assignment 13**"
      ],
      "metadata": {
        "id": "8Bj9hpDhmdl9"
      }
    },
    {
      "cell_type": "code",
      "source": [
        "class Engine:\n",
        "  def start_engine(self):\n",
        "    return \"Engine started!\"\n",
        "\n",
        "class Car:\n",
        "  def __init__(self, engine):\n",
        "    self.engine = engine\n",
        "\n",
        "  def start(self):\n",
        "    return self.engine.start_engine()\n",
        "\n",
        "my_engine = Engine()\n",
        "\n",
        "my_car = Car(my_engine)\n",
        "\n",
        "print(my_car.start())"
      ],
      "metadata": {
        "colab": {
          "base_uri": "https://localhost:8080/"
        },
        "id": "eyahGv6emqcc",
        "outputId": "6bd2e07b-4baa-465c-9227-eca470db4228"
      },
      "execution_count": 4,
      "outputs": [
        {
          "output_type": "stream",
          "name": "stdout",
          "text": [
            "Engine started!\n"
          ]
        }
      ]
    },
    {
      "cell_type": "markdown",
      "source": [
        "**Assignment 14**"
      ],
      "metadata": {
        "id": "3Cq4l23AmsfA"
      }
    },
    {
      "cell_type": "code",
      "source": [
        "class Employee:\n",
        "  def __init__(self, name, employee_id):\n",
        "    self.name = name\n",
        "    self.employee_id = employee_id\n",
        "\n",
        "  def display_employee_info(self):\n",
        "    print(f\"Employee Name: {self.name}, Employee ID: {self.employee_id}\")\n",
        "\n",
        "\n",
        "class Department:\n",
        "  def __init__(self, department_name, employee):\n",
        "    self.department_name = department_name\n",
        "    self.employee = employee\n",
        "\n",
        "  def display_department_info(self):\n",
        "    print(f\"Department Name: {self.department_name}\")\n",
        "    print(\"Department Head:\")\n",
        "    self.employee.display_employee_info()\n",
        "\n",
        "employee1 = Employee(\"Majid\", \"T001\")\n",
        "\n",
        "hr_department = Department(\"Agentic ai dept\", employee1)\n",
        "\n",
        "hr_department.display_department_info()\n",
        "\n",
        "print(\"\\nEmployee object still exists:\")\n",
        "employee1.display_employee_info()"
      ],
      "metadata": {
        "colab": {
          "base_uri": "https://localhost:8080/"
        },
        "id": "cHwSQCovm_03",
        "outputId": "77e917f3-4bd1-4420-da3b-d279813a1571"
      },
      "execution_count": 6,
      "outputs": [
        {
          "output_type": "stream",
          "name": "stdout",
          "text": [
            "Department Name: Agentic ai dept\n",
            "Department Head:\n",
            "Employee Name: Majid, Employee ID: T001\n",
            "\n",
            "Employee object still exists:\n",
            "Employee Name: Majid, Employee ID: T001\n"
          ]
        }
      ]
    },
    {
      "cell_type": "markdown",
      "source": [
        "**Assignment 15**"
      ],
      "metadata": {
        "id": "GxSxpOK5nM8G"
      }
    },
    {
      "cell_type": "code",
      "source": [
        "class A:\n",
        "    def show(self):\n",
        "        print(\"A's show() method\")\n",
        "class B(A):\n",
        "    def show(self):\n",
        "        print(\"B's show() method\")\n",
        "class C(A):\n",
        "    def show(self):\n",
        "        print(\"C's show() method\")\n",
        "class D(B, C):\n",
        "    pass\n",
        "# Create object of D\n",
        "d = D()\n",
        "d.show()\n",
        "\n",
        "# Show MRO\n",
        "print(\"MRO of class D:\", D.__mro__)"
      ],
      "metadata": {
        "colab": {
          "base_uri": "https://localhost:8080/"
        },
        "id": "gnoRu4RfnAdW",
        "outputId": "d2ae3650-ca24-4666-8cf8-62d3f09d81e9"
      },
      "execution_count": 7,
      "outputs": [
        {
          "output_type": "stream",
          "name": "stdout",
          "text": [
            "B's show() method\n",
            "MRO of class D: (<class '__main__.D'>, <class '__main__.B'>, <class '__main__.C'>, <class '__main__.A'>, <class 'object'>)\n"
          ]
        }
      ]
    },
    {
      "cell_type": "markdown",
      "source": [
        "**Assignment 16**"
      ],
      "metadata": {
        "id": "q0agTNh4npvm"
      }
    },
    {
      "cell_type": "code",
      "source": [
        "def log_function_call(func):\n",
        "  def wrapper(*args, **kwargs):\n",
        "    print(\"Function is being called\")\n",
        "    return func(*args, **kwargs)\n",
        "  return wrapper\n",
        "\n",
        "@log_function_call\n",
        "def say_hello():\n",
        "  print(\"Hello!\")\n",
        "\n",
        "say_hello()"
      ],
      "metadata": {
        "colab": {
          "base_uri": "https://localhost:8080/"
        },
        "id": "Dr6o84SBnmUp",
        "outputId": "5c345d25-a97c-4de3-8c57-d4dd7d932561"
      },
      "execution_count": 8,
      "outputs": [
        {
          "output_type": "stream",
          "name": "stdout",
          "text": [
            "Function is being called\n",
            "Hello!\n"
          ]
        }
      ]
    },
    {
      "cell_type": "markdown",
      "source": [
        "**Assignment 17**"
      ],
      "metadata": {
        "id": "hvjXdiPAoMWO"
      }
    },
    {
      "cell_type": "code",
      "source": [
        "def add_greeting(cls):\n",
        "    def greet(self):\n",
        "        return \"Hello from Decorator!\"\n",
        "\n",
        "    cls.greet = greet\n",
        "    return cls\n",
        "\n",
        "@add_greeting\n",
        "class Person:\n",
        "    def __init__(self, name):\n",
        "        self.name = name\n",
        "\n",
        "p = Person(\"Majid\")\n",
        "print(p.greet())\n"
      ],
      "metadata": {
        "colab": {
          "base_uri": "https://localhost:8080/"
        },
        "id": "DbCOKknqn2yy",
        "outputId": "6a8be1fd-e1f8-4c7c-a74d-b543fa7ee922"
      },
      "execution_count": 9,
      "outputs": [
        {
          "output_type": "stream",
          "name": "stdout",
          "text": [
            "Hello from Decorator!\n"
          ]
        }
      ]
    },
    {
      "cell_type": "markdown",
      "source": [
        "**Assignment 18**"
      ],
      "metadata": {
        "id": "S4pa_dd_pey-"
      }
    },
    {
      "cell_type": "code",
      "source": [
        "class Product:\n",
        "    def __init__(self, price):\n",
        "        self._price = price\n",
        "\n",
        "    @property\n",
        "    def price(self):\n",
        "        print(\"Getting price...\")\n",
        "        return self._price\n",
        "    @price.setter\n",
        "    def price(self, value):\n",
        "        if value < 0:\n",
        "            print(\"Price cannot be negative!\")\n",
        "        else:\n",
        "            print(\"Setting price...\")\n",
        "            self._price = value\n",
        "    @price.deleter\n",
        "    def price(self):\n",
        "        print(\"Deleting price...\")\n",
        "        del self._price\n",
        "p = Product(100)\n",
        "print(p.price)\n",
        "p.price = 150\n",
        "print(p.price)\n",
        "del p.price\n"
      ],
      "metadata": {
        "colab": {
          "base_uri": "https://localhost:8080/"
        },
        "id": "jY2anarSpjH2",
        "outputId": "0da84cc0-b87b-4367-817f-603c686b53ea"
      },
      "execution_count": 10,
      "outputs": [
        {
          "output_type": "stream",
          "name": "stdout",
          "text": [
            "Getting price...\n",
            "100\n",
            "Setting price...\n",
            "Getting price...\n",
            "150\n",
            "Deleting price...\n"
          ]
        }
      ]
    },
    {
      "cell_type": "markdown",
      "source": [
        "**Assignment 19**"
      ],
      "metadata": {
        "id": "ZYoTzb-iqNSi"
      }
    },
    {
      "cell_type": "code",
      "source": [
        "class Multiplier:\n",
        "    def __init__(self, factor):\n",
        "        self.factor = factor\n",
        "\n",
        "    def __call__(self, value):\n",
        "        return value * self.factor\n",
        "\n",
        "double = Multiplier(2)\n",
        "triple = Multiplier(3)\n",
        "\n",
        "print(callable(double))\n",
        "\n",
        "print(double(10))\n",
        "print(triple(5))\n"
      ],
      "metadata": {
        "colab": {
          "base_uri": "https://localhost:8080/"
        },
        "id": "DchM9I7CpaLV",
        "outputId": "d215a8e4-d94d-4d42-b75b-0946f6a8c766"
      },
      "execution_count": 11,
      "outputs": [
        {
          "output_type": "stream",
          "name": "stdout",
          "text": [
            "True\n",
            "20\n",
            "15\n"
          ]
        }
      ]
    },
    {
      "cell_type": "markdown",
      "source": [
        "**Assignment 20**"
      ],
      "metadata": {
        "id": "r7vwNhN3qs-i"
      }
    },
    {
      "cell_type": "code",
      "source": [
        "class InvalidAgeError(Exception):\n",
        "    pass\n",
        "\n",
        "def check_age(age):\n",
        "    if age < 18:\n",
        "        raise InvalidAgeError(\"Age must be 18 or older\")\n",
        "    else:\n",
        "        print(\"Access granted\")\n",
        "try:\n",
        "    age = int(input(\"Enter your age: \"))\n",
        "    check_age(age)\n",
        "except InvalidAgeError as e:\n",
        "    print(\"Error:\", e)\n",
        "except ValueError:\n",
        "    print(\"Please enter a valid number.\")\n"
      ],
      "metadata": {
        "colab": {
          "base_uri": "https://localhost:8080/"
        },
        "id": "H_qQGGtuqmy0",
        "outputId": "a5215398-a3bc-4852-9eaa-3aa01dda3b28"
      },
      "execution_count": 12,
      "outputs": [
        {
          "output_type": "stream",
          "name": "stdout",
          "text": [
            "Enter your age: 20\n",
            "Access granted\n"
          ]
        }
      ]
    },
    {
      "cell_type": "markdown",
      "source": [
        "*Assignment 21*"
      ],
      "metadata": {
        "id": "7AuZ1PVyrG7Z"
      }
    },
    {
      "cell_type": "code",
      "source": [
        "class Countdown:\n",
        "    def __init__(self, start):\n",
        "        self.current = start\n",
        "\n",
        "    def __iter__(self):\n",
        "        return self\n",
        "\n",
        "    def __next__(self):\n",
        "        if self.current < 0:\n",
        "            raise StopIteration\n",
        "        value = self.current\n",
        "        self.current -= 1\n",
        "        return value\n",
        "for number in Countdown(5):\n",
        "    print(number)\n"
      ],
      "metadata": {
        "colab": {
          "base_uri": "https://localhost:8080/"
        },
        "id": "YpYGGCRxq-0W",
        "outputId": "184ec095-026f-4d34-c8ee-0dbb38dce3d4"
      },
      "execution_count": 13,
      "outputs": [
        {
          "output_type": "stream",
          "name": "stdout",
          "text": [
            "5\n",
            "4\n",
            "3\n",
            "2\n",
            "1\n",
            "0\n"
          ]
        }
      ]
    },
    {
      "cell_type": "code",
      "source": [],
      "metadata": {
        "id": "FbXQXzsfrXz3"
      },
      "execution_count": null,
      "outputs": []
    }
  ]
}